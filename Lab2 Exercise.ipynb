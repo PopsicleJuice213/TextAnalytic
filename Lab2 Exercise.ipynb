{
 "cells": [
  {
   "cell_type": "markdown",
   "id": "2d5875c4-20e0-4aed-b9fb-635702c3e3a3",
   "metadata": {},
   "source": [
    "- Exercise Lab 2 Q1"
   ]
  },
  {
   "cell_type": "code",
   "execution_count": 8,
   "id": "d10421ea-a1a7-4d6a-943f-7e7f49fc20f3",
   "metadata": {},
   "outputs": [
    {
     "name": "stdout",
     "output_type": "stream",
     "text": [
      "Digits found: ['2', '4', '5', '6', '7', '8', '9', '3', '4', '1', '2', '3', '0']\n"
     ]
    }
   ],
   "source": [
    "import re\n",
    "text = \"Order number: 24567, Tracking ID: 8934A12, Quantity: 30\"\n",
    "# Write your regular expression here\n",
    "pattern = pattern1 = r\"\\d\"\n",
    "matches = re.findall(pattern, text)\n",
    "print(\"Digits found:\", matches)"
   ]
  },
  {
   "cell_type": "markdown",
   "id": "81be3eac-4b2d-4509-ae3a-852dc5c45c3d",
   "metadata": {},
   "source": [
    "-Question 2\n"
   ]
  },
  {
   "cell_type": "code",
   "execution_count": 14,
   "id": "f6a13e51-b551-4fa6-8dd9-cebfbf048990",
   "metadata": {},
   "outputs": [
    {
     "name": "stdout",
     "output_type": "stream",
     "text": [
      "Non-alphanumeric characters: ['!', ' ', \"'\", ' ', ' ', ' ', '?', ' ', ' ', ' ', '@', ' ', '.']\n"
     ]
    }
   ],
   "source": [
    "text = \"Welcome! How's your day going? Call me @ 3pm.\"\n",
    "pattern = r\"\\W\"\n",
    "matches = re.findall(pattern, text)\n",
    "print(\"Non-alphanumeric characters:\", matches)"
   ]
  },
  {
   "cell_type": "markdown",
   "id": "61fc208e-3af0-4894-8a85-8f23d528f012",
   "metadata": {},
   "source": [
    "-Question 3"
   ]
  },
  {
   "cell_type": "code",
   "execution_count": 62,
   "id": "3e987a1e-daa9-46ed-9ccf-65d6f473db95",
   "metadata": {},
   "outputs": [
    {
     "name": "stdout",
     "output_type": "stream",
     "text": [
      "Split text: ['Data Science, AI, ', ' Machine Learning. These fields are growing fast.']\n"
     ]
    }
   ],
   "source": [
    "text = \"Data Science, AI, and Machine Learning. These fields are growing fast.\"\n",
    "\n",
    "pattern = r'and'\n",
    "\n",
    "split_text = re.split(pattern, text)\n",
    "print(\"Split text:\", split_text)\n"
   ]
  },
  {
   "cell_type": "markdown",
   "id": "9dd4542f-4926-42e8-b4fe-6f5de4a81c94",
   "metadata": {},
   "source": [
    "Question 4"
   ]
  },
  {
   "cell_type": "code",
   "execution_count": 69,
   "id": "f922f65c-2c23-4944-91e6-7ec0fa3fddb3",
   "metadata": {},
   "outputs": [
    {
     "name": "stdout",
     "output_type": "stream",
     "text": [
      "Anonymized text: Contact us at [HIDDEN] or info@company.org\n"
     ]
    }
   ],
   "source": [
    "text = \"Contact us at support@example.com or info@company.org\"\n",
    "pattern = r'support@example.com'\n",
    "new_text = re.sub(pattern, \"[HIDDEN]\", text)\n",
    "print(\"Anonymized text:\", new_text)\n",
    " "
   ]
  },
  {
   "cell_type": "code",
   "execution_count": 131,
   "id": "3ef60dfe-09c2-4230-95db-29895ad75e2d",
   "metadata": {},
   "outputs": [
    {
     "name": "stdout",
     "output_type": "stream",
     "text": [
      "Anonymized text: Contact us at [HIDDEN] or [HIDDEN]\n"
     ]
    }
   ],
   "source": [
    "text = \"Contact us at support@example.com or info@company.org\"\n",
    "pattern = r'support@example.com'\n",
    "pattern2 = r'info@company.org'\n",
    "\n",
    "new_text = re.sub(pattern, \"[HIDDEN]\", text)\n",
    "new_text = re.sub(pattern2, \"[HIDDEN]\", new_text)\n",
    "print(\"Anonymized text:\", new_text)\n"
   ]
  },
  {
   "cell_type": "markdown",
   "id": "013b05c1-08e8-44da-8c8b-d770f5b9299f",
   "metadata": {},
   "source": [
    "-Question 5"
   ]
  },
  {
   "cell_type": "code",
   "execution_count": 137,
   "id": "124848f1-d996-4e91-9c09-8025e6dec0ab",
   "metadata": {},
   "outputs": [
    {
     "name": "stdout",
     "output_type": "stream",
     "text": [
      "Domain types: ['com', 'edu', 'org']\n"
     ]
    }
   ],
   "source": [
    "text = \"Emails: user@gmail.com, admin@university.edu, info@company.org\"\n",
    "pattern = r'@\\w+.(\\w+)'\n",
    "matches = re.findall(pattern, text)\n",
    "print(\"Domain types:\", matches)\n"
   ]
  },
  {
   "cell_type": "code",
   "execution_count": null,
   "id": "f107fe6a-1fd1-4755-bacf-1401e3cc147e",
   "metadata": {},
   "outputs": [],
   "source": []
  }
 ],
 "metadata": {
  "kernelspec": {
   "display_name": "Python [conda env:base] *",
   "language": "python",
   "name": "conda-base-py"
  },
  "language_info": {
   "codemirror_mode": {
    "name": "ipython",
    "version": 3
   },
   "file_extension": ".py",
   "mimetype": "text/x-python",
   "name": "python",
   "nbconvert_exporter": "python",
   "pygments_lexer": "ipython3",
   "version": "3.12.7"
  }
 },
 "nbformat": 4,
 "nbformat_minor": 5
}
