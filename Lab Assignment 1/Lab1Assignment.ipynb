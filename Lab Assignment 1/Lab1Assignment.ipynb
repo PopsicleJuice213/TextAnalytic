{
 "cells": [
  {
   "cell_type": "code",
   "execution_count": 52,
   "id": "71032296-62a7-4913-8c64-4f7592054ff5",
   "metadata": {},
   "outputs": [
    {
     "name": "stdout",
     "output_type": "stream",
     "text": [
      "Reddit API connected successfully!\n"
     ]
    }
   ],
   "source": [
    "import praw\n",
    "\n",
    "author = \"Muhammad Adlin bin Yuzaimi\"\n",
    "ID = \"IS01082209\"\n",
    "reddit = praw.Reddit(\n",
    "    client_id=\"YBR9BvHoN3F7TLlNrUomMg\",\n",
    "    client_secret=\"byF-Hl9WSk7Ew932yCurPMr8NoeJGg\",\n",
    "    user_agent=\"Testing/1.0 (by u/AirOld3078)\"\n",
    ")\n",
    "\n",
    "print(\"Reddit API connected successfully!\")\n",
    "\n",
    "#Reddit APi is used in order to access the content of the reddit website source, this is used to avoid any misuse or spam\n",
    "#praw package used to initiate the reddit api function"
   ]
  },
  {
   "cell_type": "code",
   "execution_count": 66,
   "id": "10b289a9-6ba5-4f8d-9eb6-c7bfca34496a",
   "metadata": {},
   "outputs": [
    {
     "name": "stdout",
     "output_type": "stream",
     "text": [
      "Comments saved to reddit_comments.csv by  Muhammad Adlin bin Yuzaimi , IS01082209\n"
     ]
    },
    {
     "name": "stderr",
     "output_type": "stream",
     "text": [
      "C:\\Users\\muhda\\AppData\\Local\\Temp\\ipykernel_24688\\4026199159.py:17: DeprecationWarning: datetime.datetime.utcfromtimestamp() is deprecated and scheduled for removal in a future version. Use timezone-aware objects to represent datetimes in UTC: datetime.datetime.fromtimestamp(timestamp, datetime.UTC).\n",
      "  comment_date = datetime.utcfromtimestamp(comment.created_utc).strftime('%Y-%m-%d')  # Convert timestamp to date\n"
     ]
    }
   ],
   "source": [
    "# Import the CSV module to save data into a file\n",
    "import csv  \n",
    "from datetime import datetime\n",
    "\n",
    "# Define the Reddit post URL from which comments will be scraped\n",
    "post_url = \"https://www.reddit.com/r/iphone15/comments/1ixqsj3/how_is_ur_experience_with_the_iphone_15/\"\n",
    "\n",
    "# Fetch the submission from the reddit post using the URL\n",
    "submission = reddit.submission(url=post_url)\n",
    "\n",
    "comments_data = []\n",
    "submission.comments.replace_more(limit=5)  # Adjust limit for deeper scraping\n",
    "\n",
    "for comment in submission.comments.list():\n",
    "    comment_author = comment.author.name if comment.author else \"Deleted\"\n",
    "    comment_text = comment.body\n",
    "    comment_date = datetime.utcfromtimestamp(comment.created_utc).strftime('%Y-%m-%d')  # Convert timestamp to date\n",
    "\n",
    "    comments_data.append([comment_author, comment_text, comment_date])\n",
    "\n",
    "# Save to CSV\n",
    "df = pd.DataFrame(comments_data, columns=[\"Author\", \"Comment\", \"Date\"])\n",
    "df.to_csv(\"reddit_comments.csv\", index=False, encoding=\"utf-8\")\n",
    "\n",
    "print(\"Comments saved to reddit_comments.csv by \", author , \",\" , ID)"
   ]
  },
  {
   "cell_type": "code",
   "execution_count": null,
   "id": "25d7604b-e3a0-4bd1-8cba-ee2614b82052",
   "metadata": {},
   "outputs": [],
   "source": []
  }
 ],
 "metadata": {
  "kernelspec": {
   "display_name": "Python [conda env:base] *",
   "language": "python",
   "name": "conda-base-py"
  },
  "language_info": {
   "codemirror_mode": {
    "name": "ipython",
    "version": 3
   },
   "file_extension": ".py",
   "mimetype": "text/x-python",
   "name": "python",
   "nbconvert_exporter": "python",
   "pygments_lexer": "ipython3",
   "version": "3.12.7"
  }
 },
 "nbformat": 4,
 "nbformat_minor": 5
}
